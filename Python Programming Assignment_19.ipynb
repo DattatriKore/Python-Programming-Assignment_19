{
 "cells": [
  {
   "cell_type": "code",
   "execution_count": 5,
   "id": "55cdae8c",
   "metadata": {},
   "outputs": [
    {
     "name": "stdout",
     "output_type": "stream",
     "text": [
      "double_char(\"String\") ➞ SSttrriinngg\n",
      "\n",
      "double_char(\"Hello World!\") ➞ HHeelllloo  WWoorrlldd!!\n",
      "\n",
      "double_char(\"1234!_\") ➞ 11223344!!__\n"
     ]
    }
   ],
   "source": [
    "'''\n",
    "Q.[1] : Create a function that takes a string and returns a string in which each character is repeated once.\n",
    "\n",
    "        Examples\n",
    "        \n",
    "        double_char(\"String\") ➞ \"SSttrriinngg\"\n",
    "        \n",
    "        double_char(\"Hello World!\") ➞ \"HHeelllloo WWoorrlldd!!\"\n",
    "        \n",
    "        double_char(\"1234!_\") ➞ \"11223344!!__\"\n",
    "\n",
    "'''\n",
    "\n",
    "def double_char(in_string):\n",
    "    out_string = ''\n",
    "    for i in in_string:\n",
    "        out_string = out_string + i*2\n",
    "    return out_string\n",
    "\n",
    "print(f'double_char(\"String\") ➞ {double_char(\"String\")}\\n')\n",
    "print(f'double_char(\"Hello World!\") ➞ {double_char(\"Hello World!\")}\\n')\n",
    "print(f'double_char(\"1234!_\") ➞ {double_char(\"1234!_\")}')"
   ]
  },
  {
   "cell_type": "code",
   "execution_count": 7,
   "id": "3635065e",
   "metadata": {},
   "outputs": [
    {
     "name": "stdout",
     "output_type": "stream",
     "text": [
      "reverse(True) ➞ False\n",
      "reverse(False) ➞ True\n",
      "reverse(0) ➞ Boolean Expected\n",
      "reverse(None) ➞ Boolean Expected\n"
     ]
    }
   ],
   "source": [
    "'''\n",
    "Q.[2] : Create a function that reverses a boolean value and returns the string \"boolean expected\" if another variable\n",
    "\n",
    "        type is given.\n",
    "        \n",
    "        Examples\n",
    "        \n",
    "        reverse(True) ➞ False\n",
    "        \n",
    "        reverse(False) ➞ True\n",
    "        \n",
    "        reverse(0) ➞ \"boolean expected\"\n",
    "        \n",
    "        reverse(None) ➞ \"boolean expected\"\n",
    "\n",
    "'''\n",
    "\n",
    "def reverse(fun):\n",
    "    if type(fun) == bool:\n",
    "        return not fun\n",
    "    else:\n",
    "        return \"Boolean Expected\"\n",
    "\n",
    "print(f'reverse(True) ➞ {reverse(True)}')\n",
    "print(f'reverse(False) ➞ {reverse(False)}')\n",
    "print(f'reverse(0) ➞ {reverse(0)}')\n",
    "print(f'reverse(None) ➞ {reverse(None)}')"
   ]
  },
  {
   "cell_type": "code",
   "execution_count": 8,
   "id": "e16c325f",
   "metadata": {},
   "outputs": [
    {
     "name": "stdout",
     "output_type": "stream",
     "text": [
      "num_layers(1) ➞ 0.001m\n",
      "num_layers(4) ➞ 0.008m\n",
      "num_layers(21) ➞ 1048.576m\n"
     ]
    }
   ],
   "source": [
    "'''\n",
    "Q.[3] : Create a function that returns the thickness (in meters) of a piece of paper after folding it n number of times.\n",
    "\n",
    "        The paper starts off with a thickness of 0.5mm.\n",
    "        \n",
    "        Examples\n",
    "        \n",
    "        num_layers(1) ➞ \"0.001m\"\n",
    "        \n",
    "        # Paper folded once is 1mm (equal to 0.001m)\n",
    "        \n",
    "        num_layers(4) ➞ \"0.008m\"\n",
    "        \n",
    "        # Paper folded 4 times is 8mm (equal to 0.008m)\n",
    "        \n",
    "        num_layers(21) ➞ \"1048.576m\"\n",
    "        \n",
    "        # Paper folded 21 times is 1048576mm (equal to 1048.576m)\n",
    "\n",
    "'''\n",
    "\n",
    "def num_layers(n):\n",
    "    thickness = 0.5\n",
    "    for i in range(n):\n",
    "        thickness = thickness * 2\n",
    "    \n",
    "    return str(thickness / 1000)+'m'\n",
    "\n",
    "print(f\"num_layers(1) ➞ {num_layers(1)}\")\n",
    "print(f\"num_layers(4) ➞ {num_layers(4)}\")\n",
    "print(f\"num_layers(21) ➞ {num_layers(21)}\")"
   ]
  },
  {
   "cell_type": "code",
   "execution_count": 9,
   "id": "4231f620",
   "metadata": {},
   "outputs": [
    {
     "name": "stdout",
     "output_type": "stream",
     "text": [
      "eDaBiT ➞ [1, 3, 5]\n",
      "eQuINoX ➞ [1, 3, 4, 6]\n",
      "determine ➞ []\n",
      "STRIKE ➞ [0, 1, 2, 3, 4, 5]\n",
      "sUn ➞ [1]\n"
     ]
    }
   ],
   "source": [
    "'''\n",
    "Q.[4] : Create a function that takes a single string as argument and returns an ordered list containing the indices of \n",
    "\n",
    "        all capital letters in the string.\n",
    "        \n",
    "        Examples\n",
    "        \n",
    "        index_of_caps(\"eDaBiT\") ➞ [1, 3, 5]\n",
    "        \n",
    "        index_of_caps(\"eQuINoX\") ➞ [1, 3, 4, 6]\n",
    "        \n",
    "        index_of_caps(\"determine\") ➞ []\n",
    "        \n",
    "        index_of_caps(\"STRIKE\") ➞ [0, 1, 2, 3, 4, 5]\n",
    "        \n",
    "        index_of_caps(\"sUn\") ➞ [1]\n",
    "\n",
    "'''\n",
    "\n",
    "def index_of_caps(n):\n",
    "    string = []\n",
    "    for i in n:\n",
    "        if i.isupper():\n",
    "            string.append(n.index(i))\n",
    "    print(f'{n} ➞ {string}')\n",
    "\n",
    "index_of_caps(\"eDaBiT\")\n",
    "index_of_caps(\"eQuINoX\")\n",
    "index_of_caps(\"determine\")\n",
    "index_of_caps(\"STRIKE\")\n",
    "index_of_caps(\"sUn\")"
   ]
  },
  {
   "cell_type": "code",
   "execution_count": 10,
   "id": "5eb86560",
   "metadata": {},
   "outputs": [
    {
     "name": "stdout",
     "output_type": "stream",
     "text": [
      "[2, 4, 6, 8]\n",
      "[2, 4]\n",
      "[2]\n"
     ]
    }
   ],
   "source": [
    "'''\n",
    "Q.[5] : Using list comprehensions, create a function that finds all even numbers from 1 to the given number.\n",
    "\n",
    "        Examples\n",
    "        \n",
    "        find_even_nums(8) ➞ [2, 4, 6, 8]\n",
    "        \n",
    "        find_even_nums(4) ➞ [2, 4]\n",
    "        \n",
    "        find_even_nums(2) ➞ [2]\n",
    "\n",
    "'''\n",
    "\n",
    "def find_even_nums(num):\n",
    "    list = [i for i in range(1,num+1) if i%2 == 0]\n",
    "    print(list)\n",
    "    \n",
    "find_even_nums(8)\n",
    "find_even_nums(4)\n",
    "find_even_nums(2)"
   ]
  },
  {
   "cell_type": "code",
   "execution_count": null,
   "id": "db2d3a6b",
   "metadata": {},
   "outputs": [],
   "source": []
  }
 ],
 "metadata": {
  "kernelspec": {
   "display_name": "Python 3 (ipykernel)",
   "language": "python",
   "name": "python3"
  },
  "language_info": {
   "codemirror_mode": {
    "name": "ipython",
    "version": 3
   },
   "file_extension": ".py",
   "mimetype": "text/x-python",
   "name": "python",
   "nbconvert_exporter": "python",
   "pygments_lexer": "ipython3",
   "version": "3.9.13"
  }
 },
 "nbformat": 4,
 "nbformat_minor": 5
}
